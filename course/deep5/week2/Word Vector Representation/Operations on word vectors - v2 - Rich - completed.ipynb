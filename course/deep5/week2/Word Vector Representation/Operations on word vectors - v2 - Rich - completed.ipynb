version https://git-lfs.github.com/spec/v1
oid sha256:e6c70e9fc906af184ae9b0e71199b8e5ff331235a2488d5ea4ed46f6c28d6a82
size 35669
