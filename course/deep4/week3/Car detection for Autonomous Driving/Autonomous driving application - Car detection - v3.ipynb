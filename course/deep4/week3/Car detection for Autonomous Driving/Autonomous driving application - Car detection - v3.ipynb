version https://git-lfs.github.com/spec/v1
oid sha256:592817700d09eb5c5a866c3bc4aad116aac95317f5f3dccf47c4dd43a24181ce
size 47625
