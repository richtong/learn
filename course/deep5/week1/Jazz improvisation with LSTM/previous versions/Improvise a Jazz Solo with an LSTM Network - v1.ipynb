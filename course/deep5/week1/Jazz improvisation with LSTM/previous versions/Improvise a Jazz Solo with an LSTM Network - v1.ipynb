version https://git-lfs.github.com/spec/v1
oid sha256:424f3a4d446b60bfb2019b52e263223f0e97c36e5b08ccb9849197be05ecd54e
size 30164
