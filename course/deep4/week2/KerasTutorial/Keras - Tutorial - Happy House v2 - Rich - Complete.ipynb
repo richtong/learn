{
 "cells": [
  {
   "cell_type": "markdown",
   "metadata": {},
   "source": [
    "# Keras tutorial - the Happy House\n",
    "\n",
    "Welcome to the first assignment of week 2. In this assignment, you will:\n",
    "1. Learn to use Keras, a high-level neural networks API (programming framework), written in Python and capable of running on top of several lower-level frameworks including TensorFlow and CNTK. \n",
    "2. See how you can in a couple of hours build a deep learning algorithm.\n",
    "\n",
    "Why are we using Keras? Keras was developed to enable deep learning engineers to build and experiment with different models very quickly. Just as TensorFlow is a higher-level framework than Python, Keras is an even higher-level framework and provides additional abstractions. Being able to go from idea to result with the least possible delay is key to finding good models. However, Keras is more restrictive than the lower-level frameworks, so there are some very complex models that you can implement in TensorFlow but not (without more difficulty) in Keras. That being said, Keras will work fine for many common models. \n",
    "\n",
    "In this exercise, you'll work on the \"Happy House\" problem, which we'll explain below. Let's load the required packages and solve the problem of the Happy House!"
   ]
  },
  {
   "cell_type": "code",
   "execution_count": 1,
   "metadata": {},
   "outputs": [
    {
     "name": "stderr",
     "output_type": "stream",
     "text": [
      "Using TensorFlow backend.\n"
     ]
    }
   ],
   "source": [
    "import numpy as np\n",
    "from keras import layers\n",
    "from keras.layers import Input, Dense, Activation, ZeroPadding2D, BatchNormalization, Flatten, Conv2D\n",
    "from keras.layers import AveragePooling2D, MaxPooling2D, Dropout, GlobalMaxPooling2D, GlobalAveragePooling2D\n",
    "from keras.models import Model\n",
    "from keras.preprocessing import image\n",
    "from keras.utils import layer_utils\n",
    "from keras.utils.data_utils import get_file\n",
    "from keras.applications.imagenet_utils import preprocess_input\n",
    "import pydot\n",
    "from IPython.display import SVG\n",
    "from keras.utils.vis_utils import model_to_dot\n",
    "from keras.utils import plot_model\n",
    "from kt_utils import *\n",
    "\n",
    "import keras.backend as K\n",
    "K.set_image_data_format('channels_last')\n",
    "import matplotlib.pyplot as plt\n",
    "from matplotlib.pyplot import imshow\n",
    "\n",
    "%matplotlib inline"
   ]
  },
  {
   "cell_type": "markdown",
   "metadata": {},
   "source": [
    "**Note**: As you can see, we've imported a lot of functions from Keras. You can use them easily just by calling them directly in the notebook. Ex: `X = Input(...)` or `X = ZeroPadding2D(...)`."
   ]
  },
  {
   "cell_type": "markdown",
   "metadata": {},
   "source": [
    "## 1 - The Happy House \n",
    "\n",
    "For your next vacation, you decided to spend a week with five of your friends from school. It is a very convenient house with many things to do nearby. But the most important benefit is that everybody has commited to be happy when they are in the house. So anyone wanting to enter the house must prove their current state of happiness.\n",
    "\n",
    "<img src=\"images/happy-house.jpg\" style=\"width:350px;height:270px;\">\n",
    "<caption><center> <u> <font color='purple'> **Figure 1** </u><font color='purple'>  : **the Happy House**</center></caption>\n",
    "\n",
    "\n",
    "As a deep learning expert, to make sure the \"Happy\" rule is strictly applied, you are going to build an algorithm which that uses pictures from the front door camera to check if the person is happy or not. The door should open only if the person is happy. \n",
    "\n",
    "You have gathered pictures of your friends and yourself, taken by the front-door camera. The dataset is labbeled. \n",
    "\n",
    "<img src=\"images/house-members.png\" style=\"width:550px;height:250px;\">\n",
    "\n",
    "Run the following code to normalize the dataset and learn about its shapes."
   ]
  },
  {
   "cell_type": "code",
   "execution_count": 2,
   "metadata": {},
   "outputs": [
    {
     "name": "stdout",
     "output_type": "stream",
     "text": [
      "number of training examples = 600\n",
      "number of test examples = 150\n",
      "X_train shape: (600, 64, 64, 3)\n",
      "Y_train shape: (600, 1)\n",
      "X_test shape: (150, 64, 64, 3)\n",
      "Y_test shape: (150, 1)\n"
     ]
    }
   ],
   "source": [
    "X_train_orig, Y_train_orig, X_test_orig, Y_test_orig, classes = load_dataset()\n",
    "\n",
    "# Normalize image vectors\n",
    "X_train = X_train_orig/255.\n",
    "X_test = X_test_orig/255.\n",
    "\n",
    "# Reshape\n",
    "Y_train = Y_train_orig.T\n",
    "Y_test = Y_test_orig.T\n",
    "\n",
    "print (\"number of training examples = \" + str(X_train.shape[0]))\n",
    "print (\"number of test examples = \" + str(X_test.shape[0]))\n",
    "print (\"X_train shape: \" + str(X_train.shape))\n",
    "print (\"Y_train shape: \" + str(Y_train.shape))\n",
    "print (\"X_test shape: \" + str(X_test.shape))\n",
    "print (\"Y_test shape: \" + str(Y_test.shape))"
   ]
  },
  {
   "cell_type": "markdown",
   "metadata": {},
   "source": [
    "**Details of the \"Happy\" dataset**:\n",
    "- Images are of shape (64,64,3)\n",
    "- Training: 600 pictures\n",
    "- Test: 150 pictures\n",
    "\n",
    "It is now time to solve the \"Happy\" Challenge."
   ]
  },
  {
   "cell_type": "markdown",
   "metadata": {},
   "source": [
    "## 2 - Building a model in Keras\n",
    "\n",
    "Keras is very good for rapid prototyping. In just a short time you will be able to build a model that achieves outstanding results.\n",
    "\n",
    "Here is an example of a model in Keras:\n",
    "\n",
    "```python\n",
    "def model(input_shape):\n",
    "    # Define the input placeholder as a tensor with shape input_shape. Think of this as your input image!\n",
    "    X_input = Input(input_shape)\n",
    "\n",
    "    # Zero-Padding: pads the border of X_input with zeroes\n",
    "    X = ZeroPadding2D((3, 3))(X_input)\n",
    "\n",
    "    # CONV -> BN -> RELU Block applied to X\n",
    "    X = Conv2D(32, (7, 7), strides = (1, 1), name = 'conv0')(X)\n",
    "    X = BatchNormalization(axis = 3, name = 'bn0')(X)\n",
    "    X = Activation('relu')(X)\n",
    "\n",
    "    # MAXPOOL\n",
    "    X = MaxPooling2D((2, 2), name='max_pool')(X)\n",
    "\n",
    "    # FLATTEN X (means convert it to a vector) + FULLYCONNECTED\n",
    "    X = Flatten()(X)\n",
    "    X = Dense(1, activation='sigmoid', name='fc')(X)\n",
    "\n",
    "    # Create model. This creates your Keras model instance, you'll use this instance to train/test the model.\n",
    "    model = Model(inputs = X_input, outputs = X, name='HappyModel')\n",
    "    \n",
    "    return model\n",
    "```\n",
    "\n",
    "Note that Keras uses a different convention with variable names than we've previously used with numpy and TensorFlow. In particular, rather than creating and assigning a new variable on each step of forward propagation such as `X`, `Z1`, `A1`, `Z2`, `A2`, etc. for the computations for the different layers, in Keras code each line above just reassigns `X` to a new value using `X = ...`. In other words, during each step of forward propagation, we are just writing the latest value in the commputation into the same variable `X`. The only exception was `X_input`, which we kept separate and did not overwrite, since we needed it at the end to create the Keras model instance (`model = Model(inputs = X_input, ...)` above). \n",
    "\n",
    "**Exercise**: Implement a `HappyModel()`. This assignment is more open-ended than most. We suggest that you start by implementing a model using the architecture we suggest, and run through the rest of this assignment using that as your initial model. But after that, come back and take initiative to try out other model architectures. For example, you might take inspiration from the model above, but then vary the network architecture and hyperparameters however you wish. You can also use other functions such as `AveragePooling2D()`, `GlobalMaxPooling2D()`, `Dropout()`. \n",
    "\n",
    "**Note**: You have to be careful with your data's shapes. Use what you've learned in the videos to make sure your convolutional, pooling and fully-connected layers are adapted to the volumes you're applying it to."
   ]
  },
  {
   "cell_type": "code",
   "execution_count": 3,
   "metadata": {},
   "outputs": [],
   "source": [
    "# GRADED FUNCTION: HappyModel\n",
    "\n",
    "def HappyModel(input_shape):\n",
    "    \"\"\"\n",
    "    Implementation of the HappyModel.\n",
    "    \n",
    "    Arguments:\n",
    "    input_shape -- shape of the images of the dataset\n",
    "\n",
    "    Returns:\n",
    "    model -- a Model() instance in Keras\n",
    "    \"\"\"\n",
    "    \n",
    "    ### START CODE HERE ###\n",
    "    # Feel free to use the suggested outline in the text above to get started, and run through the whole\n",
    "    # exercise (including the later portions of this notebook) once. The come back also try out other\n",
    "    # network architectures as well. \n",
    "    X_input = Input(input_shape)\n",
    "    \n",
    "    # note retain X_input as the original input of the model at runtine\n",
    "    X = ZeroPadding2D((3, 3))(X_input)\n",
    "    \n",
    "    # Convolution with 7x7 block and 1 stride\n",
    "    X = Conv2D(32, (7, 7), strides=(1, 1), name='conv0')(X)\n",
    "    X = BatchNormalization(axis=3, name='bn0')(X)\n",
    "    X = Activation('relu')(X)\n",
    "    # Max pool\n",
    "    X = MaxPooling2D((2, 2), name='max_pool0')(X)\n",
    "    \n",
    "    # Adding another convolution, can you just do this without dimensions? Yes, Keras handles this\n",
    "    # so now have two levels and go much deeper to 64\n",
    "    X = Conv2D(64, (3, 3), strides = (1, 1), name = 'conv1')(X)\n",
    "    X = BatchNormalization(axis = 3, name = 'bn1')(X)\n",
    "    X = Activation('relu')(X)   \n",
    "    # Max pool\n",
    "    X = MaxPooling2D((2, 2), name='max_pool1')(X)\n",
    "    \n",
    "    # Flatten and fully connect\n",
    "    X = Flatten()(X)\n",
    "    X = Dense(1, activation='sigmoid', name='fc0')(X)\n",
    "\n",
    "    \n",
    "    # run it!\n",
    "    model = Model(inputs=X_input, outputs=X, name='HappyModel')\n",
    "    \n",
    "    ### END CODE HERE ###\n",
    "    \n",
    "    return model"
   ]
  },
  {
   "cell_type": "markdown",
   "metadata": {},
   "source": [
    "You have now built a function to describe your model. To train and test this model, there are four steps in Keras:\n",
    "1. Create the model by calling the function above\n",
    "2. Compile the model by calling `model.compile(optimizer = \"...\", loss = \"...\", metrics = [\"accuracy\"])`\n",
    "3. Train the model on train data by calling `model.fit(x = ..., y = ..., epochs = ..., batch_size = ...)`\n",
    "4. Test the model on test data by calling `model.evaluate(x = ..., y = ...)`\n",
    "\n",
    "If you want to know more about `model.compile()`, `model.fit()`, `model.evaluate()` and their arguments, refer to the official [Keras documentation](https://keras.io/models/model/).\n",
    "\n",
    "**Exercise**: Implement step 1, i.e. create the model."
   ]
  },
  {
   "cell_type": "code",
   "execution_count": 4,
   "metadata": {},
   "outputs": [
    {
     "name": "stdout",
     "output_type": "stream",
     "text": [
      "input shape (64, 64, 3)\n",
      "WARNING:tensorflow:From /usr/local/lib/python3.7/site-packages/tensorflow/python/framework/op_def_library.py:263: colocate_with (from tensorflow.python.framework.ops) is deprecated and will be removed in a future version.\n",
      "Instructions for updating:\n",
      "Colocations handled automatically by placer.\n"
     ]
    },
    {
     "data": {
      "image/png": "[encoded data removed]",
      "text/plain": [
       "<Figure size 432x288 with 1 Axes>"
      ]
     },
     "metadata": {
      "needs_background": "light"
     },
     "output_type": "display_data"
    }
   ],
   "source": [
    "### START CODE HERE ### (1 line)\n",
    "# Note what it wants here is the dimensions of the image not the image themselves\n",
    "print('input shape', X_train.shape[1:])\n",
    "plt.imshow(X_train[1])\n",
    "happyModel = HappyModel(X_train.shape[1:])\n",
    "### END CODE HERE ###"
   ]
  },
  {
   "cell_type": "markdown",
   "metadata": {},
   "source": [
    "**Exercise**: Implement step 2, i.e. compile the model to configure the learning process. Choose the 3 arguments of `compile()` wisely. Hint: the Happy Challenge is a binary classification problem."
   ]
  },
  {
   "cell_type": "code",
   "execution_count": 5,
   "metadata": {},
   "outputs": [],
   "source": [
    "### START CODE HERE ### (1 line)\n",
    "# https://keras.io/optimizers/\n",
    "# https://keras.io/losses/\n",
    "# https://stackoverflow.com/questions/36515202/why-is-the-cross-entropy-method-preferred-over-mean-squared-error-in-what-cases\n",
    "# choose binary cross entropy for logistic, mean squared for linear regression\n",
    "happyModel.compile(optimizer='Adam', loss='binary_crossentropy', metrics=['accuracy'])\n",
    "### END CODE HERE ###"
   ]
  },
  {
   "cell_type": "markdown",
   "metadata": {},
   "source": [
    "**Exercise**: Implement step 3, i.e. train the model. Choose the number of epochs and the batch size."
   ]
  },
  {
   "cell_type": "code",
   "execution_count": 6,
   "metadata": {},
   "outputs": [
    {
     "name": "stdout",
     "output_type": "stream",
     "text": [
      "WARNING:tensorflow:From /usr/local/lib/python3.7/site-packages/tensorflow/python/ops/math_ops.py:3066: to_int32 (from tensorflow.python.ops.math_ops) is deprecated and will be removed in a future version.\n",
      "Instructions for updating:\n",
      "Use tf.cast instead.\n",
      "Epoch 1/40\n",
      "600/600 [==============================] - 6s 11ms/step - loss: 1.5481 - acc: 0.5700\n",
      "Epoch 2/40\n",
      "600/600 [==============================] - 6s 10ms/step - loss: 0.3249 - acc: 0.8567\n",
      "Epoch 3/40\n",
      "600/600 [==============================] - 6s 10ms/step - loss: 0.1969 - acc: 0.9267\n",
      "Epoch 4/40\n",
      "600/600 [==============================] - 6s 10ms/step - loss: 0.1522 - acc: 0.9533\n",
      "Epoch 5/40\n",
      "600/600 [==============================] - 6s 10ms/step - loss: 0.1156 - acc: 0.9667\n",
      "Epoch 6/40\n",
      "600/600 [==============================] - 6s 10ms/step - loss: 0.0906 - acc: 0.9767\n",
      "Epoch 7/40\n",
      "600/600 [==============================] - 6s 10ms/step - loss: 0.0782 - acc: 0.9833\n",
      "Epoch 8/40\n",
      "600/600 [==============================] - 6s 10ms/step - loss: 0.0662 - acc: 0.9783\n",
      "Epoch 9/40\n",
      "600/600 [==============================] - 6s 10ms/step - loss: 0.0610 - acc: 0.9883\n",
      "Epoch 10/40\n",
      "600/600 [==============================] - 6s 10ms/step - loss: 0.0544 - acc: 0.9867\n",
      "Epoch 11/40\n",
      "600/600 [==============================] - 6s 10ms/step - loss: 0.0533 - acc: 0.9817\n",
      "Epoch 12/40\n",
      "600/600 [==============================] - 6s 10ms/step - loss: 0.0453 - acc: 0.9833\n",
      "Epoch 13/40\n",
      "600/600 [==============================] - 6s 10ms/step - loss: 0.0398 - acc: 0.9917\n",
      "Epoch 14/40\n",
      "600/600 [==============================] - 6s 10ms/step - loss: 0.0375 - acc: 0.9933\n",
      "Epoch 15/40\n",
      "600/600 [==============================] - 6s 9ms/step - loss: 0.0286 - acc: 0.9950\n",
      "Epoch 16/40\n",
      "600/600 [==============================] - 6s 10ms/step - loss: 0.0341 - acc: 0.9933\n",
      "Epoch 17/40\n",
      "600/600 [==============================] - 6s 11ms/step - loss: 0.0249 - acc: 0.9950\n",
      "Epoch 18/40\n",
      "600/600 [==============================] - 7s 11ms/step - loss: 0.0236 - acc: 0.9967\n",
      "Epoch 19/40\n",
      "600/600 [==============================] - 7s 12ms/step - loss: 0.0204 - acc: 0.9950\n",
      "Epoch 20/40\n",
      "600/600 [==============================] - 8s 13ms/step - loss: 0.0200 - acc: 0.9967\n",
      "Epoch 21/40\n",
      "600/600 [==============================] - 7s 11ms/step - loss: 0.0137 - acc: 0.9967\n",
      "Epoch 22/40\n",
      "600/600 [==============================] - 6s 11ms/step - loss: 0.0324 - acc: 0.9883\n",
      "Epoch 23/40\n",
      "600/600 [==============================] - 6s 10ms/step - loss: 0.0358 - acc: 0.9933\n",
      "Epoch 24/40\n",
      "600/600 [==============================] - 6s 11ms/step - loss: 0.0290 - acc: 0.9900\n",
      "Epoch 25/40\n",
      "600/600 [==============================] - 6s 10ms/step - loss: 0.0208 - acc: 0.9950\n",
      "Epoch 26/40\n",
      "600/600 [==============================] - 6s 10ms/step - loss: 0.0133 - acc: 1.0000\n",
      "Epoch 27/40\n",
      "600/600 [==============================] - 6s 10ms/step - loss: 0.0188 - acc: 0.9933\n",
      "Epoch 28/40\n",
      "600/600 [==============================] - 6s 10ms/step - loss: 0.0198 - acc: 0.9950\n",
      "Epoch 29/40\n",
      "600/600 [==============================] - 6s 10ms/step - loss: 0.0315 - acc: 0.9917\n",
      "Epoch 30/40\n",
      "600/600 [==============================] - 7s 11ms/step - loss: 0.0468 - acc: 0.9867\n",
      "Epoch 31/40\n",
      "600/600 [==============================] - 6s 11ms/step - loss: 0.0245 - acc: 0.9950\n",
      "Epoch 32/40\n",
      "600/600 [==============================] - 7s 12ms/step - loss: 0.0189 - acc: 0.9983\n",
      "Epoch 33/40\n",
      "600/600 [==============================] - 7s 11ms/step - loss: 0.0125 - acc: 0.9967\n",
      "Epoch 34/40\n",
      "600/600 [==============================] - 7s 12ms/step - loss: 0.0135 - acc: 0.9967\n",
      "Epoch 35/40\n",
      "600/600 [==============================] - 6s 11ms/step - loss: 0.0139 - acc: 0.9967\n",
      "Epoch 36/40\n",
      "600/600 [==============================] - 6s 11ms/step - loss: 0.0065 - acc: 1.0000\n",
      "Epoch 37/40\n",
      "600/600 [==============================] - 6s 11ms/step - loss: 0.0246 - acc: 0.9917\n",
      "Epoch 38/40\n",
      "600/600 [==============================] - 6s 10ms/step - loss: 0.0148 - acc: 0.9950\n",
      "Epoch 39/40\n",
      "600/600 [==============================] - 7s 11ms/step - loss: 0.0075 - acc: 1.0000\n",
      "Epoch 40/40\n",
      "600/600 [==============================] - 7s 12ms/step - loss: 0.0076 - acc: 0.9967\n"
     ]
    },
    {
     "data": {
      "text/plain": [
       "<keras.callbacks.History at 0x13469eb70>"
      ]
     },
     "execution_count": 6,
     "metadata": {},
     "output_type": "execute_result"
    }
   ],
   "source": [
    "### START CODE HERE ### (1 line)\n",
    "# Works fine on MacBook Pro 2016 with 16GB of memory 6s per epoch\n",
    "# Results in 99.7% on train and 96% on test\n",
    "happyModel.fit(x=X_train, y=Y_train, epochs=40, batch_size=32)\n",
    "### END CODE HERE ###"
   ]
  },
  {
   "cell_type": "markdown",
   "metadata": {},
   "source": [
    "Note that if you run `fit()` again, the `model` will continue to train with the parameters it has already learnt instead of reinitializing them.\n",
    "\n",
    "**Exercise**: Implement step 4, i.e. test/evaluate the model."
   ]
  },
  {
   "cell_type": "code",
   "execution_count": 7,
   "metadata": {
    "scrolled": true
   },
   "outputs": [
    {
     "name": "stdout",
     "output_type": "stream",
     "text": [
      "150/150 [==============================] - 0s 3ms/step\n",
      "\n",
      "Loss = 0.09341903527577718\n",
      "Test Accuracy = 0.9600000039736429\n"
     ]
    }
   ],
   "source": [
    "### START CODE HERE ### (1 line)\n",
    "preds = happyModel.evaluate(x=X_test, y=Y_test)\n",
    "### END CODE HERE ###\n",
    "print()\n",
    "print (\"Loss = \" + str(preds[0]))\n",
    "print (\"Test Accuracy = \" + str(preds[1]))"
   ]
  },
  {
   "cell_type": "markdown",
   "metadata": {},
   "source": [
    "If your `happyModel()` function worked, you should have observed much better than random-guessing (50%) accuracy on the train and test sets.\n",
    "\n",
    "To give you a point of comparison, our model gets around **95% test accuracy in 40 epochs** (and 99% train accuracy) with a mini batch size of 16 and \"adam\" optimizer. But our model gets decent accuracy after just 2-5 epochs, so if you're comparing different models you can also train a variety of models on just a few epochs and see how they compare. \n",
    "\n",
    "If you have not yet achieved a very good accuracy (let's say more than 80%), here're some things you can play around with to try to achieve it:\n",
    "\n",
    "- Try using blocks of CONV->BATCHNORM->RELU such as:\n",
    "```python\n",
    "X = Conv2D(32, (3, 3), strides = (1, 1), name = 'conv0')(X)\n",
    "X = BatchNormalization(axis = 3, name = 'bn0')(X)\n",
    "X = Activation('relu')(X)\n",
    "```\n",
    "until your height and width dimensions are quite low and your number of channels quite large (≈32 for example). You are encoding useful information in a volume with a lot of channels. You can then flatten the volume and use a fully-connected layer.\n",
    "- You can use MAXPOOL after such blocks. It will help you lower the dimension in height and width.\n",
    "- Change your optimizer. We find Adam works well. \n",
    "- If the model is struggling to run and you get memory issues, lower your batch_size (12 is usually a good compromise)\n",
    "- Run on more epochs, until you see the train accuracy plateauing. \n",
    "\n",
    "Even if you have achieved a good accuracy, please feel free to keep playing with your model to try to get even better results. \n",
    "\n",
    "**Note**: If you perform hyperparameter tuning on your model, the test set actually becomes a dev set, and your model might end up overfitting to the test (dev) set. But just for the purpose of this assignment, we won't worry about that here.\n"
   ]
  },
  {
   "cell_type": "markdown",
   "metadata": {},
   "source": [
    "## 3 - Conclusion\n",
    "\n",
    "Congratulations, you have solved the Happy House challenge! \n",
    "\n",
    "Now, you just need to link this model to the front-door camera of your house. We unfortunately won't go into the details of how to do that here. "
   ]
  },
  {
   "cell_type": "markdown",
   "metadata": {},
   "source": [
    "<font color='blue'>\n",
    "**What we would like you to remember from this assignment:**\n",
    "- Keras is a tool we recommend for rapid prototyping. It allows you to quickly try out different model architectures. Are there any applications of deep learning to your daily life that you'd like to implement using Keras? \n",
    "- Remember how to code a model in Keras and the four steps leading to the evaluation of your model on the test set. Create->Compile->Fit/Train->Evaluate/Test."
   ]
  },
  {
   "cell_type": "markdown",
   "metadata": {},
   "source": [
    "## 4 - Test with your own image (Optional)\n",
    "\n",
    "Congratulations on finishing this assignment. You can now take a picture of your face and see if you could enter the Happy House. To do that:\n",
    "    1. Click on \"File\" in the upper bar of this notebook, then click \"Open\" to go on your Coursera Hub.\n",
    "    2. Add your image to this Jupyter Notebook's directory, in the \"images\" folder\n",
    "    3. Write your image's name in the following code\n",
    "    4. Run the code and check if the algorithm is right (0 is unhappy, 1 is happy)!\n",
    "    \n",
    "The training/test sets were quite similar; for example, all the pictures were taken against the same background (since a front door camera is always mounted in the same position). This makes the problem easier, but a model trained on this data may or may not work on your own data. But feel free to give it a try! "
   ]
  },
  {
   "cell_type": "code",
   "execution_count": 8,
   "metadata": {},
   "outputs": [
    {
     "name": "stdout",
     "output_type": "stream",
     "text": [
      "[[1.]]\n"
     ]
    },
    {
     "data": {
      "image/png": "[encoded data removed]",
      "text/plain": [
       "<Figure size 432x288 with 1 Axes>"
      ]
     },
     "metadata": {
      "needs_background": "light"
     },
     "output_type": "display_data"
    }
   ],
   "source": [
    "### START CODE HERE ###\n",
    "img_path = 'images/my_image.jpg'\n",
    "### END CODE HERE ###\n",
    "img = image.load_img(img_path, target_size=(64, 64))\n",
    "imshow(img)\n",
    "\n",
    "x = image.img_to_array(img)\n",
    "x = np.expand_dims(x, axis=0)\n",
    "x = preprocess_input(x)\n",
    "\n",
    "print(happyModel.predict(x))"
   ]
  },
  {
   "cell_type": "markdown",
   "metadata": {},
   "source": [
    "## 5 - Other useful functions in Keras (Optional)\n",
    "\n",
    "Two other basic features of Keras that you'll find useful are:\n",
    "- `model.summary()`: prints the details of your layers in a table with the sizes of its inputs/outputs\n",
    "- `plot_model()`: plots your graph in a nice layout. You can even save it as \".png\" using SVG() if you'd like to share it on social media ;). It is saved in \"File\" then \"Open...\" in the upper bar of the notebook.\n",
    "\n",
    "Run the following code."
   ]
  },
  {
   "cell_type": "code",
   "execution_count": 9,
   "metadata": {
    "scrolled": false
   },
   "outputs": [
    {
     "name": "stdout",
     "output_type": "stream",
     "text": [
      "_________________________________________________________________\n",
      "Layer (type)                 Output Shape              Param #   \n",
      "=================================================================\n",
      "input_1 (InputLayer)         (None, 64, 64, 3)         0         \n",
      "_________________________________________________________________\n",
      "zero_padding2d_1 (ZeroPaddin (None, 70, 70, 3)         0         \n",
      "_________________________________________________________________\n",
      "conv0 (Conv2D)               (None, 64, 64, 32)        4736      \n",
      "_________________________________________________________________\n",
      "bn0 (BatchNormalization)     (None, 64, 64, 32)        128       \n",
      "_________________________________________________________________\n",
      "activation_1 (Activation)    (None, 64, 64, 32)        0         \n",
      "_________________________________________________________________\n",
      "max_pool0 (MaxPooling2D)     (None, 32, 32, 32)        0         \n",
      "_________________________________________________________________\n",
      "conv1 (Conv2D)               (None, 30, 30, 64)        18496     \n",
      "_________________________________________________________________\n",
      "bn1 (BatchNormalization)     (None, 30, 30, 64)        256       \n",
      "_________________________________________________________________\n",
      "activation_2 (Activation)    (None, 30, 30, 64)        0         \n",
      "_________________________________________________________________\n",
      "max_pool1 (MaxPooling2D)     (None, 15, 15, 64)        0         \n",
      "_________________________________________________________________\n",
      "flatten_1 (Flatten)          (None, 14400)             0         \n",
      "_________________________________________________________________\n",
      "fc0 (Dense)                  (None, 1)                 14401     \n",
      "=================================================================\n",
      "Total params: 38,017\n",
      "Trainable params: 37,825\n",
      "Non-trainable params: 192\n",
      "_________________________________________________________________\n"
     ]
    }
   ],
   "source": [
    "happyModel.summary()"
   ]
  },
  {
   "cell_type": "code",
   "execution_count": 10,
   "metadata": {
    "scrolled": true
   },
   "outputs": [
    {
     "data": {
      "image/svg+xml": [
       "<svg height=\"848pt\" viewBox=\"0.00 0.00 225.01 848.00\" width=\"225pt\" xmlns=\"http://www.w3.org/2000/svg\" xmlns:xlink=\"http://www.w3.org/1999/xlink\">\n",
       "<g class=\"graph\" id=\"graph0\" transform=\"scale(1 1) rotate(0) translate(4 844)\">\n",
       "<title>G</title>\n",
       "<polygon fill=\"#ffffff\" points=\"-4,4 -4,-844 221.0107,-844 221.0107,4 -4,4\" stroke=\"transparent\"/>\n",
       "<!-- 5042415264 -->\n",
       "<g class=\"node\" id=\"node1\">\n",
       "<title>5042415264</title>\n",
       "<polygon fill=\"none\" points=\"44.3242,-803.5 44.3242,-839.5 172.6865,-839.5 172.6865,-803.5 44.3242,-803.5\" stroke=\"#000000\"/>\n",
       "<text fill=\"#000000\" font-family=\"Times,serif\" font-size=\"14.00\" text-anchor=\"middle\" x=\"108.5054\" y=\"-817.3\">input_1: InputLayer</text>\n",
       "</g>\n",
       "<!-- 5168946536 -->\n",
       "<g class=\"node\" id=\"node2\">\n",
       "<title>5168946536</title>\n",
       "<polygon fill=\"none\" points=\"0,-730.5 0,-766.5 217.0107,-766.5 217.0107,-730.5 0,-730.5\" stroke=\"#000000\"/>\n",
       "<text fill=\"#000000\" font-family=\"Times,serif\" font-size=\"14.00\" text-anchor=\"middle\" x=\"108.5054\" y=\"-744.3\">zero_padding2d_1: ZeroPadding2D</text>\n",
       "</g>\n",
       "<!-- 5042415264&#45;&gt;5168946536 -->\n",
       "<g class=\"edge\" id=\"edge1\">\n",
       "<title>5042415264-&gt;5168946536</title>\n",
       "<path d=\"M108.5054,-803.4551C108.5054,-795.3828 108.5054,-785.6764 108.5054,-776.6817\" fill=\"none\" stroke=\"#000000\"/>\n",
       "<polygon fill=\"#000000\" points=\"112.0055,-776.5903 108.5054,-766.5904 105.0055,-776.5904 112.0055,-776.5903\" stroke=\"#000000\"/>\n",
       "</g>\n",
       "<!-- 5168946704 -->\n",
       "<g class=\"node\" id=\"node3\">\n",
       "<title>5168946704</title>\n",
       "<polygon fill=\"none\" points=\"55.9795,-657.5 55.9795,-693.5 161.0313,-693.5 161.0313,-657.5 55.9795,-657.5\" stroke=\"#000000\"/>\n",
       "<text fill=\"#000000\" font-family=\"Times,serif\" font-size=\"14.00\" text-anchor=\"middle\" x=\"108.5054\" y=\"-671.3\">conv0: Conv2D</text>\n",
       "</g>\n",
       "<!-- 5168946536&#45;&gt;5168946704 -->\n",
       "<g class=\"edge\" id=\"edge2\">\n",
       "<title>5168946536-&gt;5168946704</title>\n",
       "<path d=\"M108.5054,-730.4551C108.5054,-722.3828 108.5054,-712.6764 108.5054,-703.6817\" fill=\"none\" stroke=\"#000000\"/>\n",
       "<polygon fill=\"#000000\" points=\"112.0055,-703.5903 108.5054,-693.5904 105.0055,-703.5904 112.0055,-703.5903\" stroke=\"#000000\"/>\n",
       "</g>\n",
       "<!-- 5169099776 -->\n",
       "<g class=\"node\" id=\"node4\">\n",
       "<title>5169099776</title>\n",
       "<polygon fill=\"none\" points=\"29.5518,-584.5 29.5518,-620.5 187.459,-620.5 187.459,-584.5 29.5518,-584.5\" stroke=\"#000000\"/>\n",
       "<text fill=\"#000000\" font-family=\"Times,serif\" font-size=\"14.00\" text-anchor=\"middle\" x=\"108.5054\" y=\"-598.3\">bn0: BatchNormalization</text>\n",
       "</g>\n",
       "<!-- 5168946704&#45;&gt;5169099776 -->\n",
       "<g class=\"edge\" id=\"edge3\">\n",
       "<title>5168946704-&gt;5169099776</title>\n",
       "<path d=\"M108.5054,-657.4551C108.5054,-649.3828 108.5054,-639.6764 108.5054,-630.6817\" fill=\"none\" stroke=\"#000000\"/>\n",
       "<polygon fill=\"#000000\" points=\"112.0055,-630.5903 108.5054,-620.5904 105.0055,-630.5904 112.0055,-630.5903\" stroke=\"#000000\"/>\n",
       "</g>\n",
       "<!-- 5169100112 -->\n",
       "<g class=\"node\" id=\"node5\">\n",
       "<title>5169100112</title>\n",
       "<polygon fill=\"none\" points=\"33.0449,-511.5 33.0449,-547.5 183.9658,-547.5 183.9658,-511.5 33.0449,-511.5\" stroke=\"#000000\"/>\n",
       "<text fill=\"#000000\" font-family=\"Times,serif\" font-size=\"14.00\" text-anchor=\"middle\" x=\"108.5054\" y=\"-525.3\">activation_1: Activation</text>\n",
       "</g>\n",
       "<!-- 5169099776&#45;&gt;5169100112 -->\n",
       "<g class=\"edge\" id=\"edge4\">\n",
       "<title>5169099776-&gt;5169100112</title>\n",
       "<path d=\"M108.5054,-584.4551C108.5054,-576.3828 108.5054,-566.6764 108.5054,-557.6817\" fill=\"none\" stroke=\"#000000\"/>\n",
       "<polygon fill=\"#000000\" points=\"112.0055,-557.5903 108.5054,-547.5904 105.0055,-557.5904 112.0055,-557.5903\" stroke=\"#000000\"/>\n",
       "</g>\n",
       "<!-- 5169235448 -->\n",
       "<g class=\"node\" id=\"node6\">\n",
       "<title>5169235448</title>\n",
       "<polygon fill=\"none\" points=\"22.145,-438.5 22.145,-474.5 194.8657,-474.5 194.8657,-438.5 22.145,-438.5\" stroke=\"#000000\"/>\n",
       "<text fill=\"#000000\" font-family=\"Times,serif\" font-size=\"14.00\" text-anchor=\"middle\" x=\"108.5054\" y=\"-452.3\">max_pool0: MaxPooling2D</text>\n",
       "</g>\n",
       "<!-- 5169100112&#45;&gt;5169235448 -->\n",
       "<g class=\"edge\" id=\"edge5\">\n",
       "<title>5169100112-&gt;5169235448</title>\n",
       "<path d=\"M108.5054,-511.4551C108.5054,-503.3828 108.5054,-493.6764 108.5054,-484.6817\" fill=\"none\" stroke=\"#000000\"/>\n",
       "<polygon fill=\"#000000\" points=\"112.0055,-484.5903 108.5054,-474.5904 105.0055,-484.5904 112.0055,-484.5903\" stroke=\"#000000\"/>\n",
       "</g>\n",
       "<!-- 5170357024 -->\n",
       "<g class=\"node\" id=\"node7\">\n",
       "<title>5170357024</title>\n",
       "<polygon fill=\"none\" points=\"55.9795,-365.5 55.9795,-401.5 161.0313,-401.5 161.0313,-365.5 55.9795,-365.5\" stroke=\"#000000\"/>\n",
       "<text fill=\"#000000\" font-family=\"Times,serif\" font-size=\"14.00\" text-anchor=\"middle\" x=\"108.5054\" y=\"-379.3\">conv1: Conv2D</text>\n",
       "</g>\n",
       "<!-- 5169235448&#45;&gt;5170357024 -->\n",
       "<g class=\"edge\" id=\"edge6\">\n",
       "<title>5169235448-&gt;5170357024</title>\n",
       "<path d=\"M108.5054,-438.4551C108.5054,-430.3828 108.5054,-420.6764 108.5054,-411.6817\" fill=\"none\" stroke=\"#000000\"/>\n",
       "<polygon fill=\"#000000\" points=\"112.0055,-411.5903 108.5054,-401.5904 105.0055,-411.5904 112.0055,-411.5903\" stroke=\"#000000\"/>\n",
       "</g>\n",
       "<!-- 5170676960 -->\n",
       "<g class=\"node\" id=\"node8\">\n",
       "<title>5170676960</title>\n",
       "<polygon fill=\"none\" points=\"29.5518,-292.5 29.5518,-328.5 187.459,-328.5 187.459,-292.5 29.5518,-292.5\" stroke=\"#000000\"/>\n",
       "<text fill=\"#000000\" font-family=\"Times,serif\" font-size=\"14.00\" text-anchor=\"middle\" x=\"108.5054\" y=\"-306.3\">bn1: BatchNormalization</text>\n",
       "</g>\n",
       "<!-- 5170357024&#45;&gt;5170676960 -->\n",
       "<g class=\"edge\" id=\"edge7\">\n",
       "<title>5170357024-&gt;5170676960</title>\n",
       "<path d=\"M108.5054,-365.4551C108.5054,-357.3828 108.5054,-347.6764 108.5054,-338.6817\" fill=\"none\" stroke=\"#000000\"/>\n",
       "<polygon fill=\"#000000\" points=\"112.0055,-338.5903 108.5054,-328.5904 105.0055,-338.5904 112.0055,-338.5903\" stroke=\"#000000\"/>\n",
       "</g>\n",
       "<!-- 5170677800 -->\n",
       "<g class=\"node\" id=\"node9\">\n",
       "<title>5170677800</title>\n",
       "<polygon fill=\"none\" points=\"33.0449,-219.5 33.0449,-255.5 183.9658,-255.5 183.9658,-219.5 33.0449,-219.5\" stroke=\"#000000\"/>\n",
       "<text fill=\"#000000\" font-family=\"Times,serif\" font-size=\"14.00\" text-anchor=\"middle\" x=\"108.5054\" y=\"-233.3\">activation_2: Activation</text>\n",
       "</g>\n",
       "<!-- 5170676960&#45;&gt;5170677800 -->\n",
       "<g class=\"edge\" id=\"edge8\">\n",
       "<title>5170676960-&gt;5170677800</title>\n",
       "<path d=\"M108.5054,-292.4551C108.5054,-284.3828 108.5054,-274.6764 108.5054,-265.6817\" fill=\"none\" stroke=\"#000000\"/>\n",
       "<polygon fill=\"#000000\" points=\"112.0055,-265.5903 108.5054,-255.5904 105.0055,-265.5904 112.0055,-265.5903\" stroke=\"#000000\"/>\n",
       "</g>\n",
       "<!-- 5170887984 -->\n",
       "<g class=\"node\" id=\"node10\">\n",
       "<title>5170887984</title>\n",
       "<polygon fill=\"none\" points=\"22.145,-146.5 22.145,-182.5 194.8657,-182.5 194.8657,-146.5 22.145,-146.5\" stroke=\"#000000\"/>\n",
       "<text fill=\"#000000\" font-family=\"Times,serif\" font-size=\"14.00\" text-anchor=\"middle\" x=\"108.5054\" y=\"-160.3\">max_pool1: MaxPooling2D</text>\n",
       "</g>\n",
       "<!-- 5170677800&#45;&gt;5170887984 -->\n",
       "<g class=\"edge\" id=\"edge9\">\n",
       "<title>5170677800-&gt;5170887984</title>\n",
       "<path d=\"M108.5054,-219.4551C108.5054,-211.3828 108.5054,-201.6764 108.5054,-192.6817\" fill=\"none\" stroke=\"#000000\"/>\n",
       "<polygon fill=\"#000000\" points=\"112.0055,-192.5903 108.5054,-182.5904 105.0055,-192.5904 112.0055,-192.5903\" stroke=\"#000000\"/>\n",
       "</g>\n",
       "<!-- 5170793888 -->\n",
       "<g class=\"node\" id=\"node11\">\n",
       "<title>5170793888</title>\n",
       "<polygon fill=\"none\" points=\"52.8726,-73.5 52.8726,-109.5 164.1382,-109.5 164.1382,-73.5 52.8726,-73.5\" stroke=\"#000000\"/>\n",
       "<text fill=\"#000000\" font-family=\"Times,serif\" font-size=\"14.00\" text-anchor=\"middle\" x=\"108.5054\" y=\"-87.3\">flatten_1: Flatten</text>\n",
       "</g>\n",
       "<!-- 5170887984&#45;&gt;5170793888 -->\n",
       "<g class=\"edge\" id=\"edge10\">\n",
       "<title>5170887984-&gt;5170793888</title>\n",
       "<path d=\"M108.5054,-146.4551C108.5054,-138.3828 108.5054,-128.6764 108.5054,-119.6817\" fill=\"none\" stroke=\"#000000\"/>\n",
       "<polygon fill=\"#000000\" points=\"112.0055,-119.5903 108.5054,-109.5904 105.0055,-119.5904 112.0055,-119.5903\" stroke=\"#000000\"/>\n",
       "</g>\n",
       "<!-- 5171764584 -->\n",
       "<g class=\"node\" id=\"node12\">\n",
       "<title>5171764584</title>\n",
       "<polygon fill=\"none\" points=\"70.3794,-.5 70.3794,-36.5 146.6313,-36.5 146.6313,-.5 70.3794,-.5\" stroke=\"#000000\"/>\n",
       "<text fill=\"#000000\" font-family=\"Times,serif\" font-size=\"14.00\" text-anchor=\"middle\" x=\"108.5054\" y=\"-14.3\">fc0: Dense</text>\n",
       "</g>\n",
       "<!-- 5170793888&#45;&gt;5171764584 -->\n",
       "<g class=\"edge\" id=\"edge11\">\n",
       "<title>5170793888-&gt;5171764584</title>\n",
       "<path d=\"M108.5054,-73.4551C108.5054,-65.3828 108.5054,-55.6764 108.5054,-46.6817\" fill=\"none\" stroke=\"#000000\"/>\n",
       "<polygon fill=\"#000000\" points=\"112.0055,-46.5903 108.5054,-36.5904 105.0055,-46.5904 112.0055,-46.5903\" stroke=\"#000000\"/>\n",
       "</g>\n",
       "</g>\n",
       "</svg>"
      ],
      "text/plain": [
       "<IPython.core.display.SVG object>"
      ]
     },
     "execution_count": 10,
     "metadata": {},
     "output_type": "execute_result"
    }
   ],
   "source": [
    "plot_model(happyModel, to_file='HappyModel.png')\n",
    "SVG(model_to_dot(happyModel).create(prog='dot', format='svg'))"
   ]
  },
  {
   "cell_type": "code",
   "execution_count": null,
   "metadata": {},
   "outputs": [],
   "source": []
  }
 ],
 "metadata": {
  "kernelspec": {
   "display_name": "Python 3",
   "language": "python",
   "name": "python3"
  },
  "language_info": {
   "codemirror_mode": {
    "name": "ipython",
    "version": 3
   },
   "file_extension": ".py",
   "mimetype": "text/x-python",
   "name": "python",
   "nbconvert_exporter": "python",
   "pygments_lexer": "ipython3",
   "version": "3.7.3"
  }
 },
 "nbformat": 4,
 "nbformat_minor": 2
}
