version https://git-lfs.github.com/spec/v1
oid sha256:60dde8fc4c553827707c129205ed18001e98c56d2e7379eb1c44c931d843ee74
size 25209
