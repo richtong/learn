{
 "cells": [
  {
   "cell_type": "markdown",
   "metadata": {},
   "source": [
    "## Towards Data Science - Transfer Learning Tutorial\n",
    "\n",
    "This is from https://towardsdatascience.com/a-comprehensive-hands-on-guide-to-transfer-learning-with-real-world-applications-in-deep-learning-212bf3b2f27a\n",
    "is the overview of the techniques, but at the end is a practical guide in the real world using Keras to graft a dog and cat discriminator on top of a pretrained model.\n",
    "\n",
    "# A note on using this with docker\n",
    "If you are using a docker container make sure there is enogh emmory. With just 2GB of memory, the file loading with thrash. Suggest 4-6GB. Set this in Docker for Desktop on the Mac in the Preferences/Advanced\n",
    "\n",
    "# Notes on gathering images from Google Images\n",
    "There are a bunch of Chrome download helpers that will download a complete images. The recommended one is called Fatkun Batch downloader. YOu have to remember to ask it to rename the images. And make sure \"Ask where to download is\" *not* set in Preferences\n",
    "\n",
    "There is another called ImageAssistant Batch Loader. both of these work pretty well with the ImageAssistant also harmonizing all the image names\n",
    "\n",
    "# Getting data from kaggle\n",
    "\n",
    "Where we will apply transfer learning to dogs vs cats on top of existing deep neural networks. First we have to get the actual data from kaggle at https://www.kaggle.com/c/dogs-vs-cats/data\n",
    "\n",
    "You can either click on the download link or use a python utility called kaggle to get it from https://github.com/Kaggle/kaggle-api\n",
    "\n",
    "Security-wise, you should goto your account `https://kaggle.com/<username>/account` and select `Create an API Token` whih will generation `kaggle.json` which should live in `~/.kaggle/kaggle.json`. If you are using @Rich's scheme, this means you should copy that to the `/Volumes/rich.vc/.ssh` and this will get linked in the ~/.ssh directory. And then you want a symlink from there `ln -s ~/.ssh/kaggle.json ~/.kaggle` and this will be secure"
   ]
  },
  {
   "cell_type": "code",
   "execution_count": null,
   "metadata": {},
   "outputs": [],
   "source": [
    "comment out this line if you really want to run this\n",
    "should only do once\n",
    "# only needs to be installed once\n",
    "!pip install kaggle numpy\n",
    "# make sure to go to https://www.kaggle.com/c/dogs-vs-cats/rules\n",
    "# And accept the rules of the competition\n",
    "# make sure to that git lfs is operating if you do this in a git repo\n",
    "# Run the line below once. Warning this is a 1GB download!\n",
    "kaggle competitions download -c dogs-vs-cats"
   ]
  },
  {
   "cell_type": "markdown",
   "metadata": {},
   "source": [
    "## Note on loading libraries and dependencies\n",
    "First, let's make sure list in the Jupyter Notebook, the actual configuration we are running using pip"
   ]
  },
  {
   "cell_type": "code",
   "execution_count": 2,
   "metadata": {},
   "outputs": [
    {
     "name": "stdout",
     "output_type": "stream",
     "text": [
      "absl-py==0.7.1\r\n",
      "alembic==1.0.8\r\n",
      "asn1crypto==0.24.0\r\n",
      "astor==0.7.1\r\n",
      "async-generator==1.10\r\n",
      "attrs==19.1.0\r\n",
      "backcall==0.1.0\r\n",
      "beautifulsoup4==4.7.1\r\n",
      "bleach==3.1.0\r\n",
      "blinker==1.4\r\n",
      "bokeh==1.0.4\r\n",
      "certifi==2019.6.16\r\n",
      "certipy==0.1.3\r\n",
      "cffi==1.12.3\r\n",
      "chardet==3.0.4\r\n",
      "Click==7.0\r\n",
      "cloudpickle==0.8.1\r\n",
      "conda==4.6.14\r\n",
      "cryptography==2.6.1\r\n",
      "cycler==0.10.0\r\n",
      "Cython==0.29.7\r\n",
      "cytoolz==0.9.0.1\r\n",
      "dask==1.1.5\r\n",
      "decorator==4.4.0\r\n",
      "defusedxml==0.5.0\r\n",
      "dill==0.2.9\r\n",
      "distributed==1.28.0\r\n",
      "entrypoints==0.3\r\n",
      "fastcache==1.1.0\r\n",
      "gast==0.2.2\r\n",
      "gmpy2==2.0.8\r\n",
      "grpcio==1.16.1\r\n",
      "h5py==2.9.0\r\n",
      "heapdict==1.0.0\r\n",
      "idna==2.8\r\n",
      "imageio==2.5.0\r\n",
      "ipykernel==5.1.0\r\n",
      "ipython==7.5.0\r\n",
      "ipython-genutils==0.2.0\r\n",
      "ipywidgets==7.4.2\r\n",
      "jedi==0.13.3\r\n",
      "Jinja2==2.10.1\r\n",
      "jsonschema==3.0.1\r\n",
      "jupyter-client==5.2.4\r\n",
      "jupyter-core==4.4.0\r\n",
      "jupyterhub==1.0.0\r\n",
      "jupyterlab==0.35.5\r\n",
      "jupyterlab-server==0.2.0\r\n",
      "kaggle==1.5.4\r\n",
      "Keras==2.2.4\r\n",
      "Keras-Applications==1.0.7\r\n",
      "Keras-Preprocessing==1.0.9\r\n",
      "kiwisolver==1.1.0\r\n",
      "llvmlite==0.27.1\r\n",
      "locket==0.2.0\r\n",
      "Mako==1.0.7\r\n",
      "Markdown==2.6.11\r\n",
      "MarkupSafe==1.1.1\r\n",
      "matplotlib==3.0.3\r\n",
      "mistune==0.8.4\r\n",
      "mock==3.0.5\r\n",
      "mpmath==1.1.0\r\n",
      "msgpack==0.6.1\r\n",
      "nbconvert==5.5.0\r\n",
      "nbformat==4.4.0\r\n",
      "networkx==2.3\r\n",
      "notebook==5.7.8\r\n",
      "numba==0.42.0\r\n",
      "numexpr==2.6.9\r\n",
      "numpy==1.16.4\r\n",
      "oauthlib==3.0.1\r\n",
      "olefile==0.46\r\n",
      "packaging==19.0\r\n",
      "pamela==1.0.0\r\n",
      "pandas==0.24.2\r\n",
      "pandocfilters==1.4.2\r\n",
      "parso==0.4.0\r\n",
      "partd==0.3.9\r\n",
      "patsy==0.5.1\r\n",
      "pexpect==4.7.0\r\n",
      "pickleshare==0.7.5\r\n",
      "Pillow==6.0.0\r\n",
      "prometheus-client==0.6.0\r\n",
      "prompt-toolkit==2.0.9\r\n",
      "protobuf==3.7.1\r\n",
      "psutil==5.6.2\r\n",
      "ptyprocess==0.6.0\r\n",
      "pycosat==0.6.3\r\n",
      "pycparser==2.19\r\n",
      "pycurl==7.43.0.2\r\n",
      "Pygments==2.4.0\r\n",
      "pygpu==0.7.6\r\n",
      "PyJWT==1.7.1\r\n",
      "pyOpenSSL==19.0.0\r\n",
      "pyparsing==2.4.0\r\n",
      "pyrsistent==0.15.2\r\n",
      "PySocks==1.6.8\r\n",
      "python-dateutil==2.8.0\r\n",
      "python-editor==1.0.4\r\n",
      "python-slugify==3.0.2\r\n",
      "pytz==2019.1\r\n",
      "PyWavelets==1.0.3\r\n",
      "PyYAML==5.1\r\n",
      "pyzmq==18.0.1\r\n",
      "requests==2.21.0\r\n",
      "ruamel-yaml==0.15.71\r\n",
      "scikit-image==0.14.2\r\n",
      "scikit-learn==0.20.3\r\n",
      "scipy==1.2.1\r\n",
      "seaborn==0.9.0\r\n",
      "Send2Trash==1.5.0\r\n",
      "six==1.12.0\r\n",
      "sortedcontainers==2.1.0\r\n",
      "soupsieve==1.9.1\r\n",
      "SQLAlchemy==1.3.3\r\n",
      "statsmodels==0.9.0\r\n",
      "sympy==1.3\r\n",
      "tblib==1.3.2\r\n",
      "tensorboard==1.13.1\r\n",
      "tensorflow==1.13.1\r\n",
      "tensorflow-estimator==1.13.0\r\n",
      "termcolor==1.1.0\r\n",
      "terminado==0.8.2\r\n",
      "testpath==0.4.2\r\n",
      "Theano==1.0.4\r\n",
      "toolz==0.9.0\r\n",
      "tornado==6.0.2\r\n",
      "tqdm==4.32.2\r\n",
      "traitlets==4.3.2\r\n",
      "Unidecode==1.1.1\r\n",
      "urllib3==1.24.2\r\n",
      "vincent==0.4.4\r\n",
      "wcwidth==0.1.7\r\n",
      "webencodings==0.5.1\r\n",
      "Werkzeug==0.15.4\r\n",
      "widgetsnbextension==3.4.2\r\n",
      "xlrd==1.2.0\r\n",
      "zict==0.1.4\r\n"
     ]
    }
   ],
   "source": [
    "!pip freeze > requirements.txt\n",
    "!cat requirements.txt"
   ]
  },
  {
   "cell_type": "markdown",
   "metadata": {},
   "source": [
    "This will give you two files `train.zip` and `test1.zip` with 500MB and 250MB worth of JPEGs. So let's process them. As an aside, you definitely to `git track \"*.jpg\"` before sticking this into your repo."
   ]
  },
  {
   "cell_type": "code",
   "execution_count": 2,
   "metadata": {},
   "outputs": [],
   "source": [
    "import glob\n",
    "import numpy as np\n",
    "import os\n",
    "import shutil\n",
    "\n",
    "# keep things deterministic and set a fixed seed\n",
    "np.random.seed(42)"
   ]
  },
  {
   "cell_type": "markdown",
   "metadata": {},
   "source": [
    "Now use glob to expand the files names in the train directory. then use an expression that sticks all the files names in cat_files and dog_files"
   ]
  },
  {
   "cell_type": "code",
   "execution_count": 3,
   "metadata": {},
   "outputs": [
    {
     "name": "stdout",
     "output_type": "stream",
     "text": [
      "total files 25000 train/dog.8011.jpg\n"
     ]
    }
   ],
   "source": [
    "files = glob.glob('train/*')\n",
    "print('total files', len(files), files[0])"
   ]
  },
  {
   "cell_type": "code",
   "execution_count": 4,
   "metadata": {},
   "outputs": [
    {
     "name": "stdout",
     "output_type": "stream",
     "text": [
      "<class 'list'> 12500 cats,  12500 dogs\n"
     ]
    }
   ],
   "source": [
    "cat_files = [f for f in files if 'cat' in f]\n",
    "dog_files = [f for f in files if 'dog' in f]\n",
    "print(type(cat_files), len(cat_files), 'cats, ', len(dog_files), 'dogs')"
   ]
  },
  {
   "cell_type": "markdown",
   "metadata": {},
   "source": [
    "Now we use np.random.choice which randomly selects `size` files and put them into the training set. Then the very clever `set` function which removes those files. Then do the same for validation and test sets"
   ]
  },
  {
   "cell_type": "code",
   "execution_count": 5,
   "metadata": {
    "scrolled": false
   },
   "outputs": [
    {
     "name": "stdout",
     "output_type": "stream",
     "text": [
      "cat_train 1500 cat_less_train 11000\n",
      "cat_train 1500 cat_val 500 cat_test 500\n",
      "dog_train 1500 dog_val 500 dog_test 500\n"
     ]
    }
   ],
   "source": [
    "def pickout(source, size):\n",
    "    # choose elements without ever picking the same one twice\n",
    "    chosen = np.random.choice(source, size=size, replace=False)\n",
    "    remainder = list(set(source) - set(chosen))\n",
    "    return chosen, remainder\n",
    "\n",
    "# do it the rote way without a function\n",
    "cat_train = np.random.choice(cat_files, size=1500, replace=False)\n",
    "# convert two lists to sets, take the reminader and reconvert to list\n",
    "# https://www.geeksforgeeks.org/python-set-operations-union-intersection-difference-symmetric-difference/\n",
    "# minus means difference\n",
    "cat_less_train = list(set(cat_files) - set(cat_train))\n",
    "print('cat_train', len(cat_train), 'cat_less_train', len(cat_less_train))\n",
    "\n",
    "cat_val, cat_less_train_and_val = pickout(cat_less_train, 500)\n",
    "cat_test, _ = pickout(cat_less_train_and_val, 500)\n",
    "\n",
    "print('cat_train', len(cat_train), 'cat_val', len(cat_val), 'cat_test', len(cat_test))\n",
    "\n",
    "# now do the dogs\n",
    "\n",
    "dog_train, remainder = pickout(dog_files, 1500)\n",
    "dog_val, remainder = pickout(remainder, 500)\n",
    "dog_test, _ = pickout(remainder, 500)\n",
    "\n",
    "assert(set(dog_train).intersection(set(dog_val)) == set())\n",
    "assert(set(dog_train).intersection(set(dog_test)) == set())\n",
    "\n",
    "print('dog_train', len(dog_train), 'dog_val', len(dog_val), 'dog_test', len(dog_test))\n",
    "# https://stackoverflow.com/questions/6130374/empty-set-literal/6130391 \n",
    "# uses the method intersection and there is no literal for null\n",
    "# https://www.digitalocean.com/community/tutorials/how-to-use-args-and-kwargs-in-python-3\n",
    "# for variable arguments\n",
    "# https://stackoverflow.com/questions/22432814/check-if-a-collection-of-sets-is-pairwise-disjoint\n",
    "# this wrks by rebuilding element by element and ensuring there\n",
    "# are no duplicates which is the definition of all disjoing\n",
    "# note that this is not vectorized\n",
    "def all_disjoint(*args):\n",
    "    union = set()\n",
    "    for arg in args:\n",
    "        for item in arg:\n",
    "            if item in union:\n",
    "                # we found a duplicate so these are not all disjoing\n",
    "                return False\n",
    "            union.add(item)\n",
    "    return True\n",
    "\n",
    "assert(all_disjoint(dog_train, dog_val, dog_test, cat_train, cat_val, cat_test))\n",
    "# https://stackoverflow.com/questions/22432814/check-if-a-collection-of-sets-is-pairwise-disjoint\n",
    "# it's faster just to do a count and this is vectorized\n",
    "def all_disjoint_by_count(*args):\n",
    "    union_of_all_sets = set()\n",
    "    total_elements_of_all_sets = 0\n",
    "    for arg in args:\n",
    "        arg_as_set = set(arg)\n",
    "        union_of_all_sets = union_of_all_sets.union(arg_as_set)\n",
    "        total_elements_of_all_sets += len(arg_as_set)\n",
    "    return total_elements_of_all_sets == len(union_of_all_sets)\n",
    "\n",
    "assert(all_disjoint_by_count(dog_train, dog_val, dog_test, cat_train, cat_val, cat_test))"
   ]
  },
  {
   "cell_type": "markdown",
   "metadata": {},
   "source": [
    "Now for convenience dump them all to disk"
   ]
  },
  {
   "cell_type": "code",
   "execution_count": 7,
   "metadata": {},
   "outputs": [
    {
     "ename": "NameError",
     "evalue": "name 'comment_out_this_if_you_really_need_for_the_first_time' is not defined",
     "output_type": "error",
     "traceback": [
      "\u001b[0;31m\u001b[0m",
      "\u001b[0;31mNameError\u001b[0mTraceback (most recent call last)",
      "\u001b[0;32m<ipython-input-7-25a9dd1c0b8d>\u001b[0m in \u001b[0;36m<module>\u001b[0;34m\u001b[0m\n\u001b[1;32m      4\u001b[0m \u001b[0;31m# warning you only need to run this once\u001b[0m\u001b[0;34m\u001b[0m\u001b[0;34m\u001b[0m\u001b[0;34m\u001b[0m\u001b[0m\n\u001b[1;32m      5\u001b[0m \u001b[0;34m\u001b[0m\u001b[0m\n\u001b[0;32m----> 6\u001b[0;31m \u001b[0mcomment_out_this_if_you_really_need_for_the_first_time\u001b[0m\u001b[0;34m\u001b[0m\u001b[0;34m\u001b[0m\u001b[0m\n\u001b[0m\u001b[1;32m      7\u001b[0m \u001b[0;34m\u001b[0m\u001b[0m\n\u001b[1;32m      8\u001b[0m \u001b[0;34m\u001b[0m\u001b[0m\n",
      "\u001b[0;31mNameError\u001b[0m: name 'comment_out_this_if_you_really_need_for_the_first_time' is not defined"
     ]
    }
   ],
   "source": [
    "# copy_to_dir(target_dir, list of files...)\n",
    "# https://www.geeksforgeeks.org/args-kwargs-python/\n",
    "\n",
    "# warning you only need to run this once\n",
    "\n",
    "comment_out_this_if_you_really_need_for_the_first_time\n",
    "\n",
    "\n",
    "def copy_to_dir(target_dir, source, *args):\n",
    "    for arg in args:\n",
    "        source = np.concatenate([source, arg])\n",
    "    print('target_dir', target_dir, 'source', len(source))\n",
    "    # I have no idea why this works, but it is in \n",
    "    os.mkdir(target_dir) if not os.path.isdir(target_dir) else None\n",
    "    for file in source:\n",
    "        shutil.copy(file, target_dir)\n",
    "    \n",
    "\n",
    "# let's do some directory munging\n",
    "train_dir = 'train_data'\n",
    "val_dir = 'val_data'\n",
    "test_dir = 'test_data'\n",
    "\n",
    "# gether up all the files\n",
    "train_files = np.concatenate([cat_train, dog_train])\n",
    "print(type(train_files), train_files.shape)\n",
    "val_files = np.concatenate([cat_val, dog_val])\n",
    "\n",
    "# instead of that yack shaving, make a function\n",
    "copy_to_dir('train_data', cat_train, dog_train)\n",
    "copy_to_dir('val_data', cat_val, dog_val)\n",
    "copy_to_dir('test_data', cat_test, dog_test)"
   ]
  },
  {
   "cell_type": "markdown",
   "metadata": {},
   "source": [
    "## Preparing Datasets\n",
    "Now the real work begin eparing the data sets. of pr"
   ]
  },
  {
   "cell_type": "code",
   "execution_count": 6,
   "metadata": {},
   "outputs": [
    {
     "name": "stderr",
     "output_type": "stream",
     "text": [
      "Using TensorFlow backend.\n"
     ]
    },
    {
     "name": "stdout",
     "output_type": "stream",
     "text": [
      "train_data\n",
      "source train_data filenames 3000\n",
      "got images 3000 <class 'numpy.ndarray'>\n",
      "got labels 3000 <class 'list'>\n",
      "starting validation set\n",
      "source val_data filenames 1000\n",
      "got images 1000 <class 'numpy.ndarray'>\n",
      "got labels 1000 <class 'list'>\n",
      "Train shape (3000, 150, 150, 3) Train labels 3000\n"
     ]
    }
   ],
   "source": [
    "import matplotlib.pyplot as plt\n",
    "from keras.preprocessing.image import ImageDataGenerator, load_img, img_to_array, array_to_img\n",
    "\n",
    "%matplotlib inline\n",
    "\n",
    "# Again we avoid duplication with a function\n",
    "# the default image size is 150x150 pixels\n",
    "# you can set the directory delimiter\n",
    "# And the file name delimiter\n",
    "def files_to_images_and_labels(source, img_dim=(150,150), dir_delimiter='/', file_delimiter='.'):\n",
    "    # assume a directory and wildcard everything there to get files\n",
    "    filenames = glob.glob(source + '/*')\n",
    "    print('source', source, 'filenames', len(filenames))\n",
    "    # use a list comprehension across all the files names\n",
    "    \n",
    "    images = [img_to_array(load_img(img, target_size=img_dim)) for img in filenames]\n",
    "    # in the tutorial, this is a numpy array, but as of June 2019\n",
    "    # this is just a plain list, so convert it\n",
    "    # https://docs.scipy.org/doc/numpy/reference/generated/numpy.asarray.html\n",
    "    images = np.asarray(images)\n",
    "    \n",
    "    print('got images', len(images), type(images))\n",
    "    # now parse the lables, this is encoded in the filename like this\n",
    "    # /dir/../dir/label.number.ext\n",
    "    # so for instance the file name will be fully qualified\n",
    "    # so get rid of the slashes and the stuff after the dot which\n",
    "    # is the file type and number\n",
    "    # split breaks up the each file name by the delimiter.\n",
    "    # we want the very last one, by convention this is -1 the first on\n",
    "    # from the right\n",
    "    # then take this basename and pick the first one before the dot\n",
    "    # and strip out any white space\n",
    "    # use a list comprehension, which takes a list filenames and then \n",
    "    # processes each one and then puts it back into another list\n",
    "    labels = [fn.split(dir_delimiter)[-1].split(file_delimiter)[0].strip() for fn in filenames]\n",
    "    print('got labels', len(labels), type(labels))\n",
    "    return images, labels\n",
    "\n",
    "print('train_data')\n",
    "train_imgs, train_labels = files_to_images_and_labels('train_data')\n",
    "print('starting validation set')\n",
    "val_imgs, val_labels = files_to_images_and_labels('val_data')\n",
    "print('Train shape', train_imgs.shape, 'Train labels', len(train_labels))\n",
    "                "
   ]
  },
  {
   "cell_type": "markdown",
   "metadata": {},
   "source": [
    "# Scaling and preparing the images\n",
    "Nwo we have 150 height x 150 width x 3 channels of RGB. So to get a better gradient scale the color channels from 0-255 to 0.0 to 1.0"
   ]
  },
  {
   "cell_type": "code",
   "execution_count": 7,
   "metadata": {},
   "outputs": [
    {
     "name": "stdout",
     "output_type": "stream",
     "text": [
      "(150, 150, 3)\n"
     ]
    },
    {
     "data": {
      "image/png": "[encoded data removed]",
      "text/plain": [
       "<PIL.Image.Image image mode=RGB size=150x150 at 0x7F8C743FF128>"
      ]
     },
     "execution_count": 7,
     "metadata": {},
     "output_type": "execute_result"
    }
   ],
   "source": [
    "# convert from the integers to floating point\n",
    "train_imgs_scaled = train_imgs.astype('float32')\n",
    "val_imgs_scaled = val_imgs.astype('float32')\n",
    "\n",
    "# now scale from 0 to 1\n",
    "train_imgs_scaled /= 255\n",
    "val_imgs_scaled /= 255\n",
    "\n",
    "# Now debug it and take a look\n",
    "print(train_imgs[0].shape)\n",
    "array_to_img(train_imgs[0])\n"
   ]
  },
  {
   "cell_type": "markdown",
   "metadata": {},
   "source": [
    "## Now get the labels ready as a one-hot vector\n",
    "We are using the SKlearn LabelEncoder to make this easy"
   ]
  },
  {
   "cell_type": "code",
   "execution_count": 10,
   "metadata": {},
   "outputs": [
    {
     "name": "stdout",
     "output_type": "stream",
     "text": [
      "raw labels ['cat', 'dog', 'cat', 'cat'] one-hot [0 1 0 0]\n"
     ]
    }
   ],
   "source": [
    "from sklearn.preprocessing import LabelEncoder\n",
    "\n",
    "batch_size = 30\n",
    "num_classes = 2\n",
    "# Don't need so many epochs to prove the point\n",
    "# epochs = 30\n",
    "epochs = 10\n",
    "input_shape = (150, 150, 3)\n",
    "\n",
    "# Instantiate an encoder, not this is not a one-hot encoder\n",
    "le = LabelEncoder()\n",
    "# Go through all the training labels and learn the\n",
    "# different tags there\n",
    "le.fit(train_labels)\n",
    "# Now turn train and validation sets into one hot vecotrs\n",
    "train_labels_enc = le.transform(train_labels)\n",
    "val_labels_enc = le.transform(val_labels)\n",
    "\n",
    "# now let see what we have\n",
    "print('raw labels', train_labels[0:4], 'one-hot',  train_labels_enc[0:4])\n"
   ]
  },
  {
   "cell_type": "markdown",
   "metadata": {},
   "source": [
    "## Simple CNN from scratch\n",
    "Ok, let's build a simple CNN that uses the Sequential simple formulation. Ths is first subsample, then maxpool, then subsample and finish with a fully connected layer. \n",
    "\n",
    "See https://jovianlin.io/keras-models-sequential-vs-functional/ for the difference, but Deeplearning.ai teaches the functional model because it is more general and you can use for LSTMs, etc.\n",
    "\n",
    "The major difference is that instead of declaring a Sequential and starting, you instead declare inputs and then pass then as parameters"
   ]
  },
  {
   "cell_type": "code",
   "execution_count": 9,
   "metadata": {},
   "outputs": [
    {
     "name": "stdout",
     "output_type": "stream",
     "text": [
      "WARNING:tensorflow:From /opt/conda/lib/python3.7/site-packages/tensorflow/python/framework/op_def_library.py:263: colocate_with (from tensorflow.python.framework.ops) is deprecated and will be removed in a future version.\n",
      "Instructions for updating:\n",
      "Colocations handled automatically by placer.\n",
      "_________________________________________________________________\n",
      "Layer (type)                 Output Shape              Param #   \n",
      "=================================================================\n",
      "conv2d_1 (Conv2D)            (None, 148, 148, 16)      448       \n",
      "_________________________________________________________________\n",
      "max_pooling2d_1 (MaxPooling2 (None, 74, 74, 16)        0         \n",
      "_________________________________________________________________\n",
      "conv2d_2 (Conv2D)            (None, 72, 72, 64)        9280      \n",
      "_________________________________________________________________\n",
      "max_pooling2d_2 (MaxPooling2 (None, 36, 36, 64)        0         \n",
      "_________________________________________________________________\n",
      "conv2d_3 (Conv2D)            (None, 34, 34, 128)       73856     \n",
      "_________________________________________________________________\n",
      "max_pooling2d_3 (MaxPooling2 (None, 17, 17, 128)       0         \n",
      "_________________________________________________________________\n",
      "flatten_1 (Flatten)          (None, 36992)             0         \n",
      "_________________________________________________________________\n",
      "dense_1 (Dense)              (None, 512)               18940416  \n",
      "_________________________________________________________________\n",
      "dense_2 (Dense)              (None, 1)                 513       \n",
      "=================================================================\n",
      "Total params: 19,024,513\n",
      "Trainable params: 19,024,513\n",
      "Non-trainable params: 0\n",
      "_________________________________________________________________\n",
      "_________________________________________________________________\n",
      "Layer (type)                 Output Shape              Param #   \n",
      "=================================================================\n",
      "input_1 (InputLayer)         (None, 150, 150, 3)       0         \n",
      "_________________________________________________________________\n",
      "conv2d_4 (Conv2D)            (None, 148, 148, 16)      448       \n",
      "_________________________________________________________________\n",
      "max_pooling2d_4 (MaxPooling2 (None, 74, 74, 16)        0         \n",
      "_________________________________________________________________\n",
      "conv2d_5 (Conv2D)            (None, 72, 72, 64)        9280      \n",
      "_________________________________________________________________\n",
      "max_pooling2d_5 (MaxPooling2 (None, 36, 36, 64)        0         \n",
      "_________________________________________________________________\n",
      "conv2d_6 (Conv2D)            (None, 34, 34, 128)       73856     \n",
      "_________________________________________________________________\n",
      "max_pooling2d_6 (MaxPooling2 (None, 17, 17, 128)       0         \n",
      "_________________________________________________________________\n",
      "flatten_2 (Flatten)          (None, 36992)             0         \n",
      "_________________________________________________________________\n",
      "dense_3 (Dense)              (None, 512)               18940416  \n",
      "_________________________________________________________________\n",
      "dense_4 (Dense)              (None, 1)                 513       \n",
      "=================================================================\n",
      "Total params: 19,024,513\n",
      "Trainable params: 19,024,513\n",
      "Non-trainable params: 0\n",
      "_________________________________________________________________\n"
     ]
    }
   ],
   "source": [
    "from keras.layers import Conv2D, MaxPooling2D, Flatten, Dense, Dropout, Input\n",
    "from keras.models import Sequential\n",
    "from keras import optimizers\n",
    "from keras.models import Model\n",
    "\n",
    "# We are using the Sequential model for simplictity\n",
    "# but we should transform this to the API model at some point\n",
    "def sequential_model(input_shape):\n",
    "    model = Sequential()\n",
    "\n",
    "    # convolve\n",
    "    model.add(Conv2D(16, kernel_size=(3,3), activation='relu', input_shape=input_shape))\n",
    "    # shrink the model by pooling a 2x2 into a 1x1\n",
    "    model.add(MaxPooling2D(pool_size=(2,2)))\n",
    "\n",
    "    # now convolve again and pool twice more\n",
    "    model.add(Conv2D(64, kernel_size=(3,3), activation='relu'))\n",
    "    model.add(MaxPooling2D(pool_size=(2,2)))\n",
    "    \n",
    "    # convolve, pool and increase the channels again\n",
    "    model.add(Conv2D(128, kernel_size=(3,3), activation='relu'))\n",
    "    # model.add(Conv2D(128, kernel_size(3,3), activation='relu'))\n",
    "    model.add(MaxPooling2D(pool_size=(2,2)))\n",
    "    \n",
    "    # Now flatten the whole thing into a single vector\n",
    "    model.add(Flatten())\n",
    "    # Have afully connected layer so you have a 512 activation vector\n",
    "    model.add(Dense(512, activation='relu'))\n",
    "    \n",
    "    # Now stick a classifier on the bottom\n",
    "    model.add(Dense(1, activation='sigmoid'))\n",
    "    return model\n",
    "\n",
    "# https://jovianlin.io/keras-models-sequential-vs-functional/\n",
    "def functional_model(input_shape):\n",
    "    # The input is a image of height, width and RGB channels \n",
    "    inputs = Input(shape=input_shape)\n",
    "    # You can then pass it on to the next layer\n",
    "    # if they are not sharing weights, then you can just reuse a\n",
    "    # variable\n",
    "    X = Conv2D(16, kernel_size=(3,3), activation='relu')(inputs)\n",
    "    X = MaxPooling2D(pool_size=(2,2))(X)\n",
    "    X = Conv2D(64, kernel_size=(3,3), activation='relu')(X)\n",
    "    X = MaxPooling2D(pool_size=(2,2))(X)\n",
    "    X = Conv2D(128, kernel_size=(3,3), activation='relu')(X)\n",
    "    X = MaxPooling2D(pool_size=(2,2))(X)\n",
    "    \n",
    "    # Now flatten, full connect and add classifier\n",
    "    X = Flatten()(X)\n",
    "    X = Dense(512, activation='relu')(X)\n",
    "    outputs = Dense(1, activation='sigmoid')(X)\n",
    "    \n",
    "    # note that unlike sequential, the model let's you \n",
    "    # set more than one input and more than one output\n",
    "    model = Model(inputs=inputs, outputs=outputs)\n",
    "    return model\n",
    "\n",
    "seq_model = sequential_model(input_shape)\n",
    "\n",
    "# binary cross entropy is used for logistic regression\n",
    "seq_model.compile(loss='binary_crossentropy',\n",
    "                  optimizer=optimizers.RMSprop(),\n",
    "                  metrics=['accuracy'])\n",
    "seq_model.summary()\n",
    "\n",
    "# this should be the same model, just different syntz\n",
    "func_model = functional_model(input_shape)\n",
    "\n",
    "func_model.compile(loss='binary_crossentropy',\n",
    "                  optimizer=optimizers.RMSprop(),\n",
    "                  metrics=['accuracy'])\n",
    "\n",
    "func_model.summary()"
   ]
  },
  {
   "cell_type": "markdown",
   "metadata": {},
   "source": [
    "There are three convolutional layers. The flatten takes the 17x17 feature maps. and we now will run fit"
   ]
  },
  {
   "cell_type": "code",
   "execution_count": 11,
   "metadata": {},
   "outputs": [
    {
     "name": "stdout",
     "output_type": "stream",
     "text": [
      "WARNING:tensorflow:From /opt/conda/lib/python3.7/site-packages/tensorflow/python/ops/math_ops.py:3066: to_int32 (from tensorflow.python.ops.math_ops) is deprecated and will be removed in a future version.\n",
      "Instructions for updating:\n",
      "Use tf.cast instead.\n",
      "Train on 3000 samples, validate on 1000 samples\n",
      "Epoch 1/10\n",
      "3000/3000 [==============================] - 171s 57ms/step - loss: 0.8091 - acc: 0.5443 - val_loss: 0.6536 - val_acc: 0.6460\n",
      "Epoch 2/10\n",
      "3000/3000 [==============================] - 137s 46ms/step - loss: 0.6540 - acc: 0.6277 - val_loss: 0.6144 - val_acc: 0.6740\n",
      "Epoch 3/10\n",
      "3000/3000 [==============================] - 104s 35ms/step - loss: 0.5783 - acc: 0.7103 - val_loss: 0.5926 - val_acc: 0.6760\n",
      "Epoch 4/10\n",
      "3000/3000 [==============================] - 105s 35ms/step - loss: 0.5012 - acc: 0.7583 - val_loss: 0.5759 - val_acc: 0.7010\n",
      "Epoch 5/10\n",
      "3000/3000 [==============================] - 99s 33ms/step - loss: 0.4097 - acc: 0.8070 - val_loss: 0.6416 - val_acc: 0.7010\n",
      "Epoch 6/10\n",
      "3000/3000 [==============================] - 101s 34ms/step - loss: 0.3059 - acc: 0.8690 - val_loss: 0.6845 - val_acc: 0.7190\n",
      "Epoch 7/10\n",
      "3000/3000 [==============================] - 100s 33ms/step - loss: 0.2123 - acc: 0.9113 - val_loss: 0.7643 - val_acc: 0.7200\n",
      "Epoch 8/10\n",
      "3000/3000 [==============================] - 98s 33ms/step - loss: 0.1616 - acc: 0.9370 - val_loss: 1.1777 - val_acc: 0.7190\n",
      "Epoch 9/10\n",
      "3000/3000 [==============================] - 92s 31ms/step - loss: 0.0990 - acc: 0.9643 - val_loss: 1.2264 - val_acc: 0.7240\n",
      "Epoch 10/10\n",
      "3000/3000 [==============================] - 92s 31ms/step - loss: 0.0759 - acc: 0.9783 - val_loss: 1.6862 - val_acc: 0.7110\n"
     ]
    }
   ],
   "source": [
    "# because this is sequential, you just fill in the x and \n",
    "# this will take about 30 minutes on a Macbook using its CPU\n",
    "# under docker\n",
    "seq_history = seq_model.fit(x=train_imgs_scaled, y=train_labels_enc,\n",
    "                       validation_data=(val_imgs_scaled, val_labels_enc),\n",
    "                       batch_size=batch_size,\n",
    "                       epochs=epochs,\n",
    "                       verbose=1)"
   ]
  },
  {
   "cell_type": "markdown",
   "metadata": {},
   "source": [
    "The model is overfitting. .99 accuracy on test and 67% on validation set. Now let's see how to do the same thing with the functional API and it has the same result which makes sense given these are the same models"
   ]
  },
  {
   "cell_type": "code",
   "execution_count": 15,
   "metadata": {
    "scrolled": true
   },
   "outputs": [
    {
     "name": "stdout",
     "output_type": "stream",
     "text": [
      "Train on 3000 samples, validate on 1000 samples\n",
      "Epoch 1/10\n",
      "3000/3000 [==============================] - 127s 42ms/step - loss: 0.6337 - acc: 0.6727 - val_loss: 0.5920 - val_acc: 0.6800\n",
      "Epoch 2/10\n",
      "3000/3000 [==============================] - 133s 44ms/step - loss: 0.5521 - acc: 0.7227 - val_loss: 0.5531 - val_acc: 0.7170\n",
      "Epoch 3/10\n",
      "3000/3000 [==============================] - 129s 43ms/step - loss: 0.4815 - acc: 0.7793 - val_loss: 0.5504 - val_acc: 0.7290\n",
      "Epoch 4/10\n",
      "3000/3000 [==============================] - 111s 37ms/step - loss: 0.3932 - acc: 0.8213 - val_loss: 0.6490 - val_acc: 0.7140\n",
      "Epoch 5/10\n",
      "3000/3000 [==============================] - 127s 42ms/step - loss: 0.3333 - acc: 0.8563 - val_loss: 0.6493 - val_acc: 0.7100\n",
      "Epoch 6/10\n",
      "3000/3000 [==============================] - 152s 51ms/step - loss: 0.2365 - acc: 0.9070 - val_loss: 0.8895 - val_acc: 0.7090\n",
      "Epoch 7/10\n",
      "3000/3000 [==============================] - 126s 42ms/step - loss: 0.1677 - acc: 0.9380 - val_loss: 1.0799 - val_acc: 0.7100\n",
      "Epoch 8/10\n",
      "3000/3000 [==============================] - 124s 41ms/step - loss: 0.1483 - acc: 0.9523 - val_loss: 0.9900 - val_acc: 0.7250\n",
      "Epoch 9/10\n",
      "3000/3000 [==============================] - 126s 42ms/step - loss: 0.1082 - acc: 0.9680 - val_loss: 1.3255 - val_acc: 0.6930\n",
      "Epoch 10/10\n",
      "3000/3000 [==============================] - 119s 40ms/step - loss: 0.0965 - acc: 0.9710 - val_loss: 1.8432 - val_acc: 0.7040\n"
     ]
    }
   ],
   "source": [
    "# https://keras.io/models/model/\n",
    "# so fitting is exactly the same\n",
    "func_history = func_model.fit(x=train_imgs_scaled, y=train_labels_enc,\n",
    "                              validation_data=(val_dja;sdfkjas;dflkjas;dfljkimgs_scaled, val_labels_enc),\n",
    "                              batch_size=batch_size,\n",
    "                              epochs=epochs,\n",
    "                              verbose=1)"
   ]
  },
  {
   "cell_type": "markdown",
   "metadata": {},
   "source": [
    "Now we can use matplotlib to print a pair of two axies charts"
   ]
  },
  {
   "cell_type": "code",
   "execution_count": 26,
   "metadata": {},
   "outputs": [
    {
     "data": {
      "image/png": "[encoded data removed]",
      "text/plain": [
       "<Figure size 864x288 with 2 Axes>"
      ]
     },
     "metadata": {
      "needs_background": "light"
     },
     "output_type": "display_data"
    },
    {
     "data": {
      "image/png": "[encoded data removed]",
      "text/plain": [
       "<Figure size 864x288 with 2 Axes>"
      ]
     },
     "metadata": {
      "needs_background": "light"
     },
     "output_type": "display_data"
    }
   ],
   "source": [
    "\n",
    "# plot a chart\n",
    "def perf_plot(axis, epochs, seq_history, category):\n",
    "    # now the first enumerates the epochs\n",
    "    epoch_list = list(range(1, epochs+1))\n",
    "    \n",
    "    # Now for the first subplot show the accuracies\n",
    "    axis.plot(epoch_list, seq_history.history[category], label='Train '+ category)\n",
    "    axis.plot(epoch_list, seq_history.history['val_' + category], label='Validation '+  category)\n",
    "\n",
    "    # now style the two \n",
    "    axis.set_xticks(np.arange(0, epochs + 1, 5))\n",
    "    axis.set_ylabel(category + ' Value')\n",
    "    axis.set_xlabel('Epoch')\n",
    "    axis.set_title(category + ' over Epochs')\n",
    "    legend = axis.legend(loc=\"best\")\n",
    "    return legend\n",
    "\n",
    "# create two subplots\n",
    "def plot_model(history):\n",
    "    f, (ax1, ax2) = plt.subplots(1, 2, figsize=(12,4))\n",
    "    t = f.suptitle('Basic CNN Performance', fontsize=12)\n",
    "    f.subplots_adjust(top=0.85, wspace=0.3)\n",
    "    l1 = perf_plot(ax1, epochs, history, 'acc')\n",
    "    l2 = perf_plot(ax2, epochs, history, 'loss')\n",
    "    \n",
    "plot_model(seq_history)\n",
    "plot_model(func_history)\n"
   ]
  },
  {
   "cell_type": "markdown",
   "metadata": {},
   "source": [
    "# CNN Adding regularization with dropouts\n",
    "The above plots are the classic example of overfitting. The Training accuracy improves but the validation accurcy stays the same. And the losses for validation actually increase over time.\n",
    "\n",
    "Using a dropout reduces overfitting on the training set. We will also try L2 regularization when this \n",
    "is verified to work."
   ]
  },
  {
   "cell_type": "code",
   "execution_count": null,
   "metadata": {},
   "outputs": [],
   "source": [
    "# Now create a model with dropouts after each\n",
    "\n"
   ]
  }
 ],
 "metadata": {
  "kernelspec": {
   "display_name": "Python 3",
   "language": "python",
   "name": "python3"
  },
  "language_info": {
   "codemirror_mode": {
    "name": "ipython",
    "version": 3
   },
   "file_extension": ".py",
   "mimetype": "text/x-python",
   "name": "python",
   "nbconvert_exporter": "python",
   "pygments_lexer": "ipython3",
   "version": "3.7.3"
  }
 },
 "nbformat": 4,
 "nbformat_minor": 2
}
