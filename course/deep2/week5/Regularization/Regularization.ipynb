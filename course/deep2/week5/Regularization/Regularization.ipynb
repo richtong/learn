version https://git-lfs.github.com/spec/v1
oid sha256:64edd4595c0ff399f098e0f53d3067f51b0bea241248daaf5c511c4a0f013a00
size 94911
