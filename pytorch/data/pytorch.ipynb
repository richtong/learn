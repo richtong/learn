{
 "cells": [
  {
   "cell_type": "markdown",
   "id": "41446770-9b23-478d-af5e-676911ecf878",
   "metadata": {
    "tags": []
   },
   "source": [
    "# Pytorch on M1 Mac\n",
    "\n",
    "From [Nikos](https://towardsdatascience.com/installing-pytorch-on-apple-m1-chip-with-gpu-acceleration-3351dc44d67chttps://towardsdatascience.com/installing-pytorch-on-apple-m1-chip-with-gpu-acceleration-3351dc44d67c) installation and trying pytorch\n"
   ]
  },
  {
   "cell_type": "code",
   "execution_count": null,
   "id": "c9c16b99-7f38-4d2b-bc75-01448a29797e",
   "metadata": {},
   "outputs": [],
   "source": [
    "import torch\n",
    "import math\n",
    "\n",
    "# is the MacOS version correct\n",
    "print(torch.backends.mps.is_available())\n",
    "\n",
    "# MPS activated\n",
    "print(torch.backends.mps.is_built())\n",
    "\n",
    "dtype = torch.float\n",
    "device = torch.device(\"mps\")\n",
    "\n",
    "print(f\"dtype={dtype} device={device}\")\n",
    "\n",
    "# random input and output data x and y\n",
    "x = torch.linspace(-math.pi, math.pi, 2000, device=device, dtype=dtype)\n",
    "y = torch.sin(x)\n",
    "\n",
    "# random weights\n",
    "a = torch.randn((), device=device, dtype=dtype)\n",
    "b = torch.randn((), device=device, dtype=dtype)\n",
    "c = torch.randn((), device=device, dtype=dtype)\n",
    "d = torch.randn((), device=device, dtype=dtype)\n",
    "\n",
    "learning_rate = 1e-6\n",
    "for t in range(2000):\n",
    "    # predicted y as a quadratic\n",
    "    y_pred = a + b * x + c* x **2 + d * x ** 3\n",
    "\n",
    "    # print loss\n",
    "    loss = (y_pred - y).pow(2).sum().item()"
   ]
  }
 ],
 "metadata": {
  "kernelspec": {
   "display_name": "",
   "language": "python",
   "name": ""
  },
  "language_info": {
   "codemirror_mode": {
    "name": "ipython",
    "version": 3
   },
   "file_extension": ".py",
   "mimetype": "text/x-python",
   "name": "python",
   "nbconvert_exporter": "python",
   "pygments_lexer": "ipython3",
   "version": "3.9.13"
  }
 },
 "nbformat": 4,
 "nbformat_minor": 5
}
