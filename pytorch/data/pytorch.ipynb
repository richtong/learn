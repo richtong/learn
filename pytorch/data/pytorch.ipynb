{
  "cells": [
    {
      "cell_type": "markdown",
      "id": "41446770-9b23-478d-af5e-676911ecf878",
      "metadata": {
        "tags": []
      },
      "source": [
        "# Pytorch on M1 Mac\n",
        "\n",
        "From [Nikos](https://towardsdatascience.com/installing-pytorch-on-apple-m1-chip-with-gpu-acceleration-3351dc44d67chttps://towardsdatascience.com/installing-pytorch-on-apple-m1-chip-with-gpu-acceleration-3351dc44d67c) installation and trying pytorch\n"
      ]
    },
    {
      "cell_type": "code",
      "execution_count": null,
      "id": "ddad17e3-c763-43a2-8134-9878b13b9916",
      "metadata": {},
      "outputs": [],
      "source": [
        "import torch\n",
        "import math\n",
        "\n",
        "# is the MacOS version correct\n",
        "print(torch.backends.mps.is_available())\n",
        "\n",
        "# MPS activated\n",
        "print(torch.backends.mps.is_built())\n",
        "\n",
        "dtype = torch.float\n",
        "device = torch.device(\"mps\")\n",
        "\n",
        "print(f\"dtype={dtype} device={device}\")\n",
        "\n",
        "# random input and output data x and y\n",
        "x = torch.linspace(-math.pi, math.pi, 2000, device=device, dtype=dtype)\n",
        "y = torch.sin(x)\n",
        "\n",
        "# random weights\n",
        "a = torch.randn((), device=device, dtype=dtype)\n",
        "b = torch.randn((), device=device, dtype=dtype)\n",
        "c = torch.randn((), device=device, dtype=dtype)\n",
        "d = torch.randn((), device=device, dtype=dtype)\n",
        "\n",
        "learning_rate = 1e-6\n",
        "for t in range(2000):\n",
        "    # predicted y as a quadratic\n",
        "    y_pred = a + b * x + c* x **2 + d * x ** 3\n",
        "\n",
        "    # print loss\n",
        "    loss = (y_pred - y).pow(2).sum().item()"
      ]
    },
    {
      "cell_type": "markdown",
      "id": "708818bd-b813-43bc-95ed-258dff726dae",
      "metadata": {},
      "source": [
        "## Princeton tutorial\n",
        "\n",
        "Using the Princeton tutorial comparing pytorch with tensorflow. First with numpy."
      ]
    },
    {
      "cell_type": "code",
      "execution_count": null,
      "id": "c47f8ca5-03ef-472f-9c2e-eda3de44552a",
      "metadata": {},
      "outputs": [],
      "source": [
        "import numpy as np\n",
        "\n",
        "new_np = np.array([[1,2], [3, 4]])\n",
        "print(f\"{new_np=}\")\n",
        "\n",
        "new_t = torch.Tensor([[1,2], [3,4]])\n",
        "print(f\"{new_t=}\")\n",
        "\n",
        "empty = np.random.rand(2,3)\n",
        "print(f\"{empty=}\")\n",
        "\n",
        "empty_t = torch.Tensor(2,3)\n",
        "print(f\"{empty_t=}\")\n",
        "\n",
        "uniform = np.reshape(np.random.uniform(-1,1,6), [2,3])\n",
        "print(f\"{uniform=}\")\n",
        "\n",
        "uniform_t = torch.Tensor(2,3).uniform_(-1,1)\n",
        "print(f\"{uniform_t=}\")\n",
        "\n",
        "\n",
        "rand = np.random.rand(2,3)\n",
        "print(f\"{rand=}\")\n",
        "\n",
        "rand_t = torch.rand(2,3)\n",
        "print(f\"{rand_t=}\")\n",
        "\n",
        "zero = np.zeros([2,3])\n",
        "print(f\"{zero=}\")\n",
        "\n",
        "zero_t = torch.zeros(2,3)\n",
        "print(f\"{zero_t=}\")"
      ]
    },
    {
      "cell_type": "markdown",
      "id": "dc355f4f-f4ae-410e-a811-569cf314ba60",
      "metadata": {},
      "source": [
        "### Trainable Parameter\n",
        "\n",
        "How the gradients work."
      ]
    },
    {
      "cell_type": "code",
      "execution_count": null,
      "id": "294c0999-3e9e-4b22-b806-560fccbc5ab6",
      "metadata": {},
      "outputs": [],
      "source": [
        "##### import torch\n",
        "\n",
        "N, D = 3, 4\n",
        "\n",
        "x = torch.rand((N, D), requires_grad=True, device=torch.device(\"cpu\"))\n",
        "y = torch.rand((N, D), requires_grad=True)\n",
        "z = torch.rand((N, D), requires_grad=True)\n",
        "\n",
        "a = x * y\n",
        "b = a + z\n",
        "\n",
        "c = torch.sum(b)\n",
        "\n",
        "c.backward()\n",
        "\n",
        "print(f\"{c.grad_fn=}\")\n",
        "print(f\"{x.data=}\")\n",
        "print(f\"{y.grad=}\")\n",
        "\n",
        "# Now try it on the MPS with device is the mps but cpu default\n",
        "dtype = torch.float\n",
        "device = torch.device(\"mps\")\n",
        "x_m = torch.rand((N, D), requires_grad=True, device=device, dtype=dtype)\n",
        "y_m = torch.rand((N, D), requires_grad=True, device=device, dtype=dtype)\n",
        "z_m = torch.rand((N, D), requires_grad=True, device=device, dtype=dtype)\n",
        "\n",
        "a_m = x_m * y_m\n",
        "b_m = a_m * z_m\n",
        "\n",
        "c_m = torch.sum(b_m)\n",
        "c_m.backward()\n",
        "\n",
        "print(f\"{c_m.grad_fn=}\")\n",
        "print(f\"{x_m.data=}\")\n",
        "print(f\"{y_m.grad=}\")"
      ]
    },
    {
      "cell_type": "code",
      "execution_count": null,
      "id": "2fc76eb4-ce43-4afa-adde-578f9b33e520",
      "metadata": {},
      "outputs": [],
      "source": []
    }
  ],
  "metadata": {
    "kernelspec": {
      "display_name": "",
      "language": "python",
      "name": ""
    },
    "language_info": {
      "codemirror_mode": {
        "name": "ipython",
        "version": 3
      },
      "file_extension": ".py",
      "mimetype": "text/x-python",
      "name": "python",
      "nbconvert_exporter": "python",
      "pygments_lexer": "ipython3",
      "version": "3.9.13"
    }
  },
  "nbformat": 4,
  "nbformat_minor": 5
}
