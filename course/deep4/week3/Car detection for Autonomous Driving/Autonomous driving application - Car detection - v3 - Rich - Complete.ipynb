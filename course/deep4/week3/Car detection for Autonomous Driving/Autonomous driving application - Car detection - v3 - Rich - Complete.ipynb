version https://git-lfs.github.com/spec/v1
oid sha256:4718124ec09428bb061cd3baa2b814abdef59313f6cac9c48ff793b8ead7c1ed
size 72954
