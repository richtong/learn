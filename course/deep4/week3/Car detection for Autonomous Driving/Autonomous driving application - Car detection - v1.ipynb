version https://git-lfs.github.com/spec/v1
oid sha256:cdeadf80c8b95ad5cf15501172212effa7170fd5d83a0b38ee043510850acdd5
size 47344
