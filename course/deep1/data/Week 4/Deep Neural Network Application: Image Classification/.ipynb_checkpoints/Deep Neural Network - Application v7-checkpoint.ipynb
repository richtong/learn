version https://git-lfs.github.com/spec/v1
oid sha256:0ac9f1e246edea53fe33781790db041425ab58e5d6521a2e3606c0594c124b00
size 27890
