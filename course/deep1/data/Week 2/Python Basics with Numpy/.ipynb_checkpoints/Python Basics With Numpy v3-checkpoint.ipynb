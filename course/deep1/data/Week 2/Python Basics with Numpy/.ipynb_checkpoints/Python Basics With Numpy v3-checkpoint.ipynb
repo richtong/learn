version https://git-lfs.github.com/spec/v1
oid sha256:bc7c6b74c5c5eede616d988cf0a9ae5043e77aca1d72987723aba8655ccd25ab
size 33615
